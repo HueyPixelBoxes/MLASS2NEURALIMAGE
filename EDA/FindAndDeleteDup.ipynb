{
 "cells": [
  {
   "cell_type": "code",
   "execution_count": 8,
   "id": "6a48f5f9",
   "metadata": {},
   "outputs": [
    {
     "name": "stdout",
     "output_type": "stream",
     "text": [
      "Processing: 1924eclectic-sofas.jpg, Hash: bf6cc1934aca3961\n",
      "Processing: 1925eclectic-sofas.jpg, Hash: bf48c1b34a5a39a5\n",
      "Duplicate found: 1925eclectic-sofas.jpg and 1924eclectic-sofas.jpg\n",
      "Deleted: 1925eclectic-sofas.jpg\n",
      "Processing: 2534beach-style-sofas.jpg, Hash: fe4780f8916ad19c\n",
      "Processing: 2674beach-style-sofas.jpg, Hash: fe4780f8916ad0bc\n",
      "Duplicate found: 2674beach-style-sofas.jpg and 2534beach-style-sofas.jpg\n",
      "Deleted: 2674beach-style-sofas.jpg\n",
      "Duplicates Found: [('1925eclectic-sofas.jpg', '1924eclectic-sofas.jpg'), ('2674beach-style-sofas.jpg', '2534beach-style-sofas.jpg')]\n"
     ]
    }
   ],
   "source": [
    "import os\n",
    "from PIL import Image\n",
    "import imagehash\n",
    "import numpy as np\n",
    "import cv2\n",
    "\n",
    "def get_perceptual_hash(image_path, hash_size=8):\n",
    "    \"\"\"Generate a perceptual hash for an image using the ImageHash library.\"\"\"\n",
    "    with Image.open(image_path) as img:\n",
    "        hash = imagehash.phash(img, hash_size=hash_size)\n",
    "    return hash\n",
    "\n",
    "def get_color_histogram_hsv(image_path):\n",
    "    \"\"\"Generate a color histogram for an image in the HSV color space.\"\"\"\n",
    "    img = Image.open(image_path)\n",
    "    img = img.convert('RGB')\n",
    "    img_cv = cv2.cvtColor(np.array(img), cv2.COLOR_RGB2HSV)\n",
    "    histogram = cv2.calcHist([img_cv], [0, 1, 2], None, [8, 8, 8], [0, 180, 0, 256, 0, 256])\n",
    "    cv2.normalize(histogram, histogram)\n",
    "    return histogram.flatten()\n",
    "\n",
    "def compare_histograms(hist1, hist2):\n",
    "    \"\"\"Use correlation for comparing histograms.\"\"\"\n",
    "    return cv2.compareHist(hist1, hist2, cv2.HISTCMP_CORREL)\n",
    "\n",
    "def find_and_delete_duplicates(directory, hash_diff_threshold=5, color_threshold=0.3:\n",
    "    hashes = {}\n",
    "    histograms = {}\n",
    "    confirmed_duplicates = []\n",
    "\n",
    "    for filename in os.listdir(directory):\n",
    "        if filename.lower().endswith(('png', 'jpg', 'jpeg', 'gif', 'bmp')):\n",
    "            file_path = os.path.join(directory, filename)\n",
    "            img_hash = get_perceptual_hash(file_path)\n",
    "            img_histogram = get_color_histogram_hsv(file_path)\n",
    "            print(f\"Processing: {filename}, Hash: {img_hash}\")\n",
    "\n",
    "            duplicate_found = False\n",
    "            for stored_hash, stored_filename in hashes.items():\n",
    "                hash_diff = img_hash - stored_hash\n",
    "                histogram_similarity = compare_histograms(histograms[stored_filename], img_histogram)\n",
    "\n",
    "                if hash_diff <= hash_diff_threshold and histogram_similarity > color_threshold:\n",
    "                    confirmed_duplicates.append((filename, stored_filename))\n",
    "                    print(f\"Duplicate found: {filename} and {stored_filename}\")\n",
    "                    os.remove(file_path)\n",
    "                    print(f\"Deleted: {filename}\")\n",
    "                    duplicate_found = True\n",
    "                    break\n",
    "\n",
    "            if not duplicate_found:\n",
    "                hashes[img_hash] = filename\n",
    "                histograms[filename] = img_histogram\n",
    "\n",
    "    return confirmed_duplicates\n",
    "\n",
    "# Usage example\n",
    "directory = r'C:\\Users\\Admin\\Desktop\\beach sofas'\n",
    "duplicates = find_and_delete_duplicates(directory)\n",
    "print(\"Duplicates Found:\", duplicates)\n"
   ]
  },
  {
   "cell_type": "code",
   "execution_count": null,
   "id": "ae9d5193",
   "metadata": {},
   "outputs": [],
   "source": []
  }
 ],
 "metadata": {
  "kernelspec": {
   "display_name": "Python 3 (ipykernel)",
   "language": "python",
   "name": "python3"
  },
  "language_info": {
   "codemirror_mode": {
    "name": "ipython",
    "version": 3
   },
   "file_extension": ".py",
   "mimetype": "text/x-python",
   "name": "python",
   "nbconvert_exporter": "python",
   "pygments_lexer": "ipython3",
   "version": "3.11.7"
  }
 },
 "nbformat": 4,
 "nbformat_minor": 5
}
